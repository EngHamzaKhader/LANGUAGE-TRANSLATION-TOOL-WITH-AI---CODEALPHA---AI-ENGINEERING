{
 "cells": [
  {
   "cell_type": "markdown",
   "metadata": {},
   "source": [
    "# **-------------**>**LANGUAGE TRANSLATION TOOL WITH AI**<**-------------**"
   ]
  },
  {
   "cell_type": "markdown",
   "metadata": {},
   "source": [
    "# Import Libraries"
   ]
  },
  {
   "cell_type": "code",
   "execution_count": 5,
   "metadata": {},
   "outputs": [],
   "source": [
    "import tkinter as tk\n",
    "from tkinter import ttk, messagebox\n",
    "from googletrans import Translator, LANGUAGES"
   ]
  },
  {
   "cell_type": "markdown",
   "metadata": {},
   "source": [
    "# Initialize the Translator"
   ]
  },
  {
   "cell_type": "code",
   "execution_count": 6,
   "metadata": {},
   "outputs": [],
   "source": [
    "# Initialize the translator\n",
    "translator = Translator()"
   ]
  },
  {
   "cell_type": "markdown",
   "metadata": {},
   "source": [
    "# Translator GUI Application Class"
   ]
  },
  {
   "cell_type": "code",
   "execution_count": 7,
   "metadata": {},
   "outputs": [],
   "source": [
    "class TranslatorApp:\n",
    "    def __init__(self, root):\n",
    "        self.root = root\n",
    "        self.root.title(\"Language Translator\")\n",
    "\n",
    "        # Set larger font\n",
    "        self.font = ('Arial', 14)\n",
    "\n",
    "\n",
    "        # Source Language Selection\n",
    "        self.src_lang_label = ttk.Label(root, text=\"Source Language:\", font=self.font)\n",
    "        self.src_lang_label.grid(column=0, row=0, padx=10, pady=10)\n",
    "        self.src_lang_var = tk.StringVar(value='auto')\n",
    "        self.src_lang_combo = ttk.Combobox(root, textvariable=self.src_lang_var, font=self.font)\n",
    "        self.src_lang_combo['values'] = list(LANGUAGES.values())\n",
    "        self.src_lang_combo.grid(column=1, row=0, padx=10, pady=10)\n",
    "\n",
    "\n",
    "        # Target Language Selection\n",
    "        self.target_lang_label = ttk.Label(root, text=\"Target Language:\", font=self.font)\n",
    "        self.target_lang_label.grid(column=0, row=1, padx=10, pady=10)\n",
    "        self.target_lang_var = tk.StringVar()\n",
    "        self.target_lang_combo = ttk.Combobox(root, textvariable=self.target_lang_var, font=self.font)\n",
    "        self.target_lang_combo['values'] = list(LANGUAGES.values())\n",
    "        self.target_lang_combo.grid(column=1, row=1, padx=10, pady=10)\n",
    "\n",
    "\n",
    "        # Text Area for Input\n",
    "        self.input_text_label = ttk.Label(root, text=\"Text to Translate:\", font=self.font)\n",
    "        self.input_text_label.grid(column=0, row=2, padx=10, pady=10)\n",
    "        self.input_text = tk.Text(root, height=10, width=50, font=self.font)\n",
    "        self.input_text.grid(column=0, row=3, columnspan=2, padx=10, pady=10)\n",
    "\n",
    "\n",
    "        # Translate Button\n",
    "        self.translate_button = ttk.Button(root, text=\"Translate\", command=self.translate_text, padding=(10, 5))\n",
    "        self.translate_button.grid(column=0, row=4, columnspan=2, padx=10, pady=10)\n",
    "\n",
    "        \n",
    "        # Text Area for Output\n",
    "        self.output_text_label = ttk.Label(root, text=\"Translated Text:\", font=self.font)\n",
    "        self.output_text_label.grid(column=0, row=5, padx=10, pady=10)\n",
    "        self.output_text = tk.Text(root, height=10, width=50, font=self.font)\n",
    "        self.output_text.grid(column=0, row=6, columnspan=2, padx=10, pady=10)\n",
    "        \n",
    "        \n",
    "    def translate_text(self):\n",
    "        \"\"\"Translate the text and display the output.\"\"\"\n",
    "        source_lang = self.get_language_code(self.src_lang_var.get())\n",
    "        target_lang = self.get_language_code(self.target_lang_var.get())\n",
    "        text_to_translate = self.input_text.get(\"1.0\", tk.END).strip()\n",
    "\n",
    "        if not text_to_translate:\n",
    "            messagebox.showwarning(\"Input Error\", \"Please enter text to translate.\")\n",
    "            return\n",
    "\n",
    "        try:\n",
    "            translated = translator.translate(text_to_translate, src=source_lang, dest=target_lang)\n",
    "            self.output_text.delete(\"1.0\", tk.END)  # Clear previous output\n",
    "            self.output_text.insert(tk.END, translated.text)\n",
    "        except Exception as e:\n",
    "            messagebox.showerror(\"Translation Error\", str(e))\n",
    "    \n",
    "    \n",
    "    def get_language_code(self, language_name):\n",
    "        \"\"\"Get the language code from the language name.\"\"\"\n",
    "        for code, lang in LANGUAGES.items():\n",
    "            if lang == language_name:\n",
    "                return code\n",
    "        return 'auto'  # Default to auto-detect"
   ]
  },
  {
   "cell_type": "markdown",
   "metadata": {},
   "source": [
    "# Run the Application"
   ]
  },
  {
   "cell_type": "code",
   "execution_count": 9,
   "metadata": {},
   "outputs": [],
   "source": [
    "# Run the application\n",
    "if __name__ == \"__main__\":\n",
    "    root = tk.Tk()\n",
    "    app = TranslatorApp(root)\n",
    "    root.mainloop()"
   ]
  }
 ],
 "metadata": {
  "kernelspec": {
   "display_name": "Python 3",
   "language": "python",
   "name": "python3"
  },
  "language_info": {
   "codemirror_mode": {
    "name": "ipython",
    "version": 3
   },
   "file_extension": ".py",
   "mimetype": "text/x-python",
   "name": "python",
   "nbconvert_exporter": "python",
   "pygments_lexer": "ipython3",
   "version": "3.11.5"
  }
 },
 "nbformat": 4,
 "nbformat_minor": 2
}
